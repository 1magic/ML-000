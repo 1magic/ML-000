{
  "nbformat": 4,
  "nbformat_minor": 0,
  "metadata": {
    "colab": {
      "name": "target_encoding.ipynb",
      "provenance": [],
      "collapsed_sections": []
    },
    "kernelspec": {
      "name": "python3",
      "display_name": "Python 3"
    }
  },
  "cells": [
    {
      "cell_type": "code",
      "metadata": {
        "id": "MoYwdVHno8Br"
      },
      "source": [
        "%load_ext Cython"
      ],
      "execution_count": 1,
      "outputs": []
    },
    {
      "cell_type": "code",
      "metadata": {
        "id": "1ND2ZN0wnSMW"
      },
      "source": [
        "import pandas as pd\n",
        "import numpy as np"
      ],
      "execution_count": 2,
      "outputs": []
    },
    {
      "cell_type": "code",
      "metadata": {
        "id": "tBPxSkURnc-l"
      },
      "source": [
        "def target_mean_v1(data, y_name, x_name):\n",
        "    result = np.zeros(data.shape[0])\n",
        "    for i in range(data.shape[0]):\n",
        "        groupby_result = data[data.index != i].groupby([x_name], as_index=False).agg(['mean', 'count'])\n",
        "        result[i] = groupby_result.loc[groupby_result.index == data.loc[i, x_name], (y_name, 'mean')]\n",
        "    return result\n",
        "\n",
        "def target_mean_v2(data, y_name, x_name):\n",
        "    result = np.zeros(data.shape[0])\n",
        "    value_dict = dict()\n",
        "    count_dict = dict()\n",
        "    for i in range(data.shape[0]):\n",
        "        if data.loc[i, x_name] not in value_dict.keys():\n",
        "            value_dict[data.loc[i, x_name]] = data.loc[i, y_name]\n",
        "            count_dict[data.loc[i, x_name]] = 1\n",
        "        else:\n",
        "            value_dict[data.loc[i, x_name]] += data.loc[i, y_name]\n",
        "            count_dict[data.loc[i, x_name]] += 1\n",
        "    for i in range(data.shape[0]):\n",
        "        result[i] = (value_dict[data.loc[i, x_name]] - data.loc[i, y_name]) / (count_dict[data.loc[i, x_name]] - 1)\n",
        "    return result"
      ],
      "execution_count": 3,
      "outputs": []
    },
    {
      "cell_type": "code",
      "metadata": {
        "id": "1tn_Vf_6nh-F"
      },
      "source": [
        "y = np.random.randint(2, size=(5000, 1))\n",
        "x = np.random.randint(10, size=(5000, 1))\n",
        "data = pd.DataFrame(np.concatenate([y, x], axis=1), columns=['y', 'x'])"
      ],
      "execution_count": 4,
      "outputs": []
    },
    {
      "cell_type": "code",
      "metadata": {
        "colab": {
          "base_uri": "https://localhost:8080/"
        },
        "id": "48rD7BS9sGER",
        "outputId": "762a25cf-c4b6-45f3-a164-0e29dc338cbb"
      },
      "source": [
        "%%timeit\n",
        "result_1 = target_mean_v1(data, 'y', 'x')"
      ],
      "execution_count": null,
      "outputs": [
        {
          "output_type": "stream",
          "text": [
            "1 loop, best of 3: 23.1 s per loop\n"
          ],
          "name": "stdout"
        }
      ]
    },
    {
      "cell_type": "code",
      "metadata": {
        "colab": {
          "base_uri": "https://localhost:8080/"
        },
        "id": "EsuwFvnKsI7D",
        "outputId": "0c2e3c31-d509-48fc-8ea3-7282c29ed418"
      },
      "source": [
        "%%timeit\n",
        "result_2 = target_mean_v2(data, 'y', 'x')"
      ],
      "execution_count": null,
      "outputs": [
        {
          "output_type": "stream",
          "text": [
            "1 loop, best of 3: 257 ms per loop\n"
          ],
          "name": "stdout"
        }
      ]
    },
    {
      "cell_type": "code",
      "metadata": {
        "colab": {
          "base_uri": "https://localhost:8080/"
        },
        "id": "6KmI0WZJhBCj",
        "outputId": "b7f51f2f-699c-4699-fb0f-ecde10015833"
      },
      "source": [
        "result_1 = target_mean_v1(data, 'y', 'x')\n",
        "result_2 = target_mean_v2(data, 'y', 'x')\n",
        "diff = np.linalg.norm(result_1 - result_2)\n",
        "print(diff)"
      ],
      "execution_count": 5,
      "outputs": [
        {
          "output_type": "stream",
          "text": [
            "0.0\n"
          ],
          "name": "stdout"
        }
      ]
    },
    {
      "cell_type": "markdown",
      "metadata": {
        "id": "m7iAceLgYI_H"
      },
      "source": [
        "## V3 重复变量合并"
      ]
    },
    {
      "cell_type": "code",
      "metadata": {
        "id": "_FNVh5AstUBj"
      },
      "source": [
        "def target_mean_v3(data, y_name, x_name):\n",
        "    len_result = data.shape[0]\n",
        "    result = np.zeros(len_result)\n",
        "    value_dict = dict()\n",
        "    count_dict = dict()\n",
        "    for i in range(len_result):\n",
        "        x_value = data.loc[i, x_name]\n",
        "        y_value = data.loc[i, y_name]\n",
        "        if x_value not in value_dict:\n",
        "            value_dict[x_value] = y_value\n",
        "            count_dict[x_value] = 1\n",
        "        else:\n",
        "            value_dict[x_value] += y_value\n",
        "            count_dict[x_value] += 1\n",
        "    for i in range(len_result):\n",
        "        x_value = data.loc[i, x_name]\n",
        "        result[i] = (value_dict[x_value] - data.loc[i, y_name]) / (count_dict[x_value] - 1)\n",
        "    return result\n"
      ],
      "execution_count": 35,
      "outputs": []
    },
    {
      "cell_type": "code",
      "metadata": {
        "colab": {
          "base_uri": "https://localhost:8080/"
        },
        "id": "cNHqWNBYndfy",
        "outputId": "94203f0c-2c65-4275-897d-be402b0a3868"
      },
      "source": [
        "result_3 = target_mean_v3(data, 'y', 'x')\n",
        "diff = np.linalg.norm(result_1 - result_3)\n",
        "print(diff)"
      ],
      "execution_count": 36,
      "outputs": [
        {
          "output_type": "stream",
          "text": [
            "0.0\n"
          ],
          "name": "stdout"
        }
      ]
    },
    {
      "cell_type": "code",
      "metadata": {
        "id": "mtlCUYpEtUMW",
        "colab": {
          "base_uri": "https://localhost:8080/"
        },
        "outputId": "a3774b10-5139-4d72-8e8d-01e3ed9159a9"
      },
      "source": [
        "%%timeit\n",
        "target_mean_v3(data, 'y', 'x')"
      ],
      "execution_count": 37,
      "outputs": [
        {
          "output_type": "stream",
          "text": [
            "10 loops, best of 3: 150 ms per loop\n"
          ],
          "name": "stdout"
        }
      ]
    },
    {
      "cell_type": "markdown",
      "metadata": {
        "id": "TBkNaxwzYOXm"
      },
      "source": [
        "## V4 使用Cython定义变量"
      ]
    },
    {
      "cell_type": "code",
      "metadata": {
        "id": "iirSr5NKnlBK"
      },
      "source": [
        "%%cython\n",
        "cimport numpy as cnp\n",
        "import numpy as np\n",
        "\n",
        "cpdef target_mean_v4(data, y_name, x_name):\n",
        "    cpdef int len_result = data.shape[0]\n",
        "    cpdef dict value_dict = {}\n",
        "    cpdef dict count_dict = {}\n",
        "    cpdef cnp.ndarray[double, ndim=1] result = np.zeros([len_result], dtype=np.float64)\n",
        "    cpdef cnp.ndarray[int, ndim=1] x_columns = np.array(data[x_name], dtype=np.intc)\n",
        "    cpdef cnp.ndarray[int, ndim=1] y_columns = np.array(data[y_name], dtype=np.intc)\n",
        "    for i in range(len_result):\n",
        "        x_value = x_columns[i]\n",
        "        y_value = y_columns[i]\n",
        "        if x_value not in value_dict:\n",
        "            value_dict[x_value] = y_value\n",
        "            count_dict[x_value] = 1\n",
        "        else:\n",
        "            value_dict[x_value] += y_value\n",
        "            count_dict[x_value] += 1\n",
        "    for i in range(len_result):\n",
        "        x_value = x_columns[i]\n",
        "        result[i] = (value_dict[x_value] - y_columns[i]) / (count_dict[x_value] - 1)\n",
        "    return result"
      ],
      "execution_count": 99,
      "outputs": []
    },
    {
      "cell_type": "code",
      "metadata": {
        "colab": {
          "base_uri": "https://localhost:8080/"
        },
        "id": "IeiNMftUupdd",
        "outputId": "cf00f957-d125-4604-844b-542fa7f4667c"
      },
      "source": [
        "result_4 = target_mean_v4(data, 'y', 'x')\n",
        "diff = np.linalg.norm(result_1 - result_4)\n",
        "print(diff)"
      ],
      "execution_count": 100,
      "outputs": [
        {
          "output_type": "stream",
          "text": [
            "0.0\n"
          ],
          "name": "stdout"
        }
      ]
    },
    {
      "cell_type": "code",
      "metadata": {
        "colab": {
          "base_uri": "https://localhost:8080/"
        },
        "id": "F-QYX0IenpXa",
        "outputId": "8aad71a1-64fd-405b-dca9-af41bba10745"
      },
      "source": [
        "%%timeit\n",
        "target_mean_v4(data, 'y', 'x')"
      ],
      "execution_count": 101,
      "outputs": [
        {
          "output_type": "stream",
          "text": [
            "1000 loops, best of 3: 1.05 ms per loop\n"
          ],
          "name": "stdout"
        }
      ]
    },
    {
      "cell_type": "markdown",
      "metadata": {
        "id": "mrFXcIaoRFG1"
      },
      "source": [
        "## V5 用数组替换字典"
      ]
    },
    {
      "cell_type": "code",
      "metadata": {
        "id": "YZpkKCgDnrm3"
      },
      "source": [
        "%%cython\n",
        "cimport numpy as cnp\n",
        "import numpy as np\n",
        "\n",
        "cpdef target_mean_v5(data, cnp.str y_name, cnp.str x_name):\n",
        "    cpdef int len_result = data.shape[0]\n",
        "    cpdef int len_array = len(data[x_name].unique())\n",
        "    cpdef cnp.ndarray[int, ndim=1] value_array = np.zeros(len_array, dtype=np.intc)\n",
        "    cpdef cnp.ndarray[int, ndim=1] count_array = np.zeros(len_array, dtype=np.intc)\n",
        "    cpdef cnp.ndarray[double, ndim=1] result = np.zeros([len_result], dtype=np.float64)\n",
        "    cpdef cnp.ndarray[int, ndim=1] x_columns = np.array(data[x_name], dtype=np.intc)\n",
        "    cpdef cnp.ndarray[int, ndim=1] y_columns = np.array(data[y_name], dtype=np.intc)\n",
        "    for i in range(len_result):\n",
        "        value_array[x_columns[i]] +=  y_columns[i]\n",
        "        count_array[x_columns[i]] += 1\n",
        "    for i in range(len_result):\n",
        "        result[i] = (value_array[x_columns[i]] - y_columns[i]) / (count_array[x_columns[i]] - 1)\n",
        "    return result"
      ],
      "execution_count": 43,
      "outputs": []
    },
    {
      "cell_type": "code",
      "metadata": {
        "colab": {
          "base_uri": "https://localhost:8080/"
        },
        "id": "QFkjTwivHQmV",
        "outputId": "3192477e-19f8-4c9e-a3c5-bfd86cf41ce6"
      },
      "source": [
        "result_5 = target_mean_v5(data, 'y', 'x')\n",
        "diff = np.linalg.norm(result_1 - result_5)\n",
        "print(diff)"
      ],
      "execution_count": 44,
      "outputs": [
        {
          "output_type": "stream",
          "text": [
            "0.0\n"
          ],
          "name": "stdout"
        }
      ]
    },
    {
      "cell_type": "code",
      "metadata": {
        "colab": {
          "base_uri": "https://localhost:8080/"
        },
        "id": "5rR2ozaF252i",
        "outputId": "779245d8-691f-43eb-fb73-ae6885e15603"
      },
      "source": [
        "%%timeit\n",
        "target_mean_v5(data, 'y', 'x')"
      ],
      "execution_count": 45,
      "outputs": [
        {
          "output_type": "stream",
          "text": [
            "The slowest run took 4.91 times longer than the fastest. This could mean that an intermediate result is being cached.\n",
            "10000 loops, best of 3: 156 µs per loop\n"
          ],
          "name": "stdout"
        }
      ]
    },
    {
      "cell_type": "markdown",
      "metadata": {
        "id": "pZwAksaKYcrr"
      },
      "source": [
        "## V6 关闭boundscheck wraparound"
      ]
    },
    {
      "cell_type": "code",
      "metadata": {
        "id": "y_zyUgBNHXXg"
      },
      "source": [
        "%%cython\n",
        "cimport numpy as cnp\n",
        "cimport cython\n",
        "from cython.parallel cimport prange\n",
        "import numpy as np\n",
        "\n",
        "@cython.boundscheck(False)\n",
        "@cython.wraparound(False)\n",
        "cpdef target_mean_v6(data, cnp.str y_name, cnp.str x_name):\n",
        "    cpdef int len_result = data.shape[0]\n",
        "    cpdef int len_array = len(data[x_name].unique())\n",
        "    cpdef cnp.ndarray[int, ndim=1] value_array = np.zeros(len_array, dtype=np.intc)\n",
        "    cpdef cnp.ndarray[int, ndim=1] count_array = np.zeros(len_array, dtype=np.intc)\n",
        "    cpdef cnp.ndarray[double, ndim=1] result = np.zeros([len_result], dtype=np.float64)\n",
        "    cpdef cnp.ndarray[int, ndim=1] x_columns = np.array(data[x_name], dtype=np.intc)\n",
        "    cpdef cnp.ndarray[int, ndim=1] y_columns = np.array(data[y_name], dtype=np.intc)\n",
        "    for i in range(len_result):\n",
        "        value_array[x_columns[i]] +=  y_columns[i]\n",
        "        count_array[x_columns[i]] += 1\n",
        "    for i in range(len_result):\n",
        "        result[i] = (value_array[x_columns[i]] - y_columns[i]) / (count_array[x_columns[i]] - 1)\n",
        "    return result"
      ],
      "execution_count": 69,
      "outputs": []
    },
    {
      "cell_type": "code",
      "metadata": {
        "colab": {
          "base_uri": "https://localhost:8080/"
        },
        "id": "FMnrzET2KdHc",
        "outputId": "0da21281-9571-41c9-b123-3c4579b86a6a"
      },
      "source": [
        "result_6 = target_mean_v6(data, 'y', 'x')\n",
        "diff = np.linalg.norm(result_1 - result_6)\n",
        "print(diff)"
      ],
      "execution_count": 70,
      "outputs": [
        {
          "output_type": "stream",
          "text": [
            "0.0\n"
          ],
          "name": "stdout"
        }
      ]
    },
    {
      "cell_type": "code",
      "metadata": {
        "colab": {
          "base_uri": "https://localhost:8080/"
        },
        "id": "9DV_95aESk0d",
        "outputId": "e0687468-c453-4d41-b3a9-409c35ff3a3e"
      },
      "source": [
        "%%timeit\n",
        "target_mean_v6(data, 'y', 'x')"
      ],
      "execution_count": 71,
      "outputs": [
        {
          "output_type": "stream",
          "text": [
            "The slowest run took 9.95 times longer than the fastest. This could mean that an intermediate result is being cached.\n",
            "10000 loops, best of 3: 138 µs per loop\n"
          ],
          "name": "stdout"
        }
      ]
    },
    {
      "cell_type": "markdown",
      "metadata": {
        "id": "VsFtS91XbL8S"
      },
      "source": [
        "## V7 假设数组长度已知为10"
      ]
    },
    {
      "cell_type": "code",
      "metadata": {
        "id": "wHXzuxTsTI9S"
      },
      "source": [
        "%%cython\n",
        "cimport numpy as cnp\n",
        "cimport cython\n",
        "from cython.parallel cimport prange\n",
        "import numpy as np\n",
        "\n",
        "@cython.boundscheck(False)\n",
        "@cython.wraparound(False)\n",
        "cpdef target_mean_v7(data, cnp.str y_name, cnp.str x_name):\n",
        "    cpdef int len_result = data.shape[0]\n",
        "    cpdef cnp.ndarray[int, ndim=1] value_array = np.zeros(10, dtype=np.intc)\n",
        "    cpdef cnp.ndarray[int, ndim=1] count_array = np.zeros(10, dtype=np.intc)\n",
        "    cpdef cnp.ndarray[double, ndim=1] result = np.zeros([len_result], dtype=np.float64)\n",
        "    cpdef cnp.ndarray[int, ndim=1] x_columns = np.array(data[x_name], dtype=np.intc)\n",
        "    cpdef cnp.ndarray[int, ndim=1] y_columns = np.array(data[y_name], dtype=np.intc)\n",
        "    for i in range(len_result):\n",
        "        value_array[x_columns[i]] +=  y_columns[i]\n",
        "        count_array[x_columns[i]] += 1\n",
        "    for i in range(len_result):\n",
        "        result[i] = (value_array[x_columns[i]] - y_columns[i]) / (count_array[x_columns[i]] - 1)\n",
        "    return result"
      ],
      "execution_count": 74,
      "outputs": []
    },
    {
      "cell_type": "code",
      "metadata": {
        "colab": {
          "base_uri": "https://localhost:8080/"
        },
        "id": "bJ-QzXZ6WNkH",
        "outputId": "aad96e54-3eb2-4971-c0d4-888b0c0751d9"
      },
      "source": [
        "result_7 = target_mean_v7(data, 'y', 'x')\n",
        "diff = np.linalg.norm(result_1 - result_7)\n",
        "print(diff)"
      ],
      "execution_count": 75,
      "outputs": [
        {
          "output_type": "stream",
          "text": [
            "0.0\n"
          ],
          "name": "stdout"
        }
      ]
    },
    {
      "cell_type": "code",
      "metadata": {
        "colab": {
          "base_uri": "https://localhost:8080/"
        },
        "id": "nGY0sA0ebjEo",
        "outputId": "68d82da5-c64f-43cc-8664-6bcb3c3d08ec"
      },
      "source": [
        "%%timeit\n",
        "target_mean_v6(data, 'y', 'x')"
      ],
      "execution_count": 76,
      "outputs": [
        {
          "output_type": "stream",
          "text": [
            "The slowest run took 5.26 times longer than the fastest. This could mean that an intermediate result is being cached.\n",
            "10000 loops, best of 3: 60.9 µs per loop\n"
          ],
          "name": "stdout"
        }
      ]
    },
    {
      "cell_type": "code",
      "metadata": {
        "id": "WeaeMvLwbmdv"
      },
      "source": [
        ""
      ],
      "execution_count": null,
      "outputs": []
    }
  ]
}